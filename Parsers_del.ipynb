{
 "cells": [
  {
   "cell_type": "code",
   "execution_count": 9,
   "metadata": {},
   "outputs": [
    {
     "data": {
      "text/plain": [
       "[(('List', 'VB'), 'xcomp', ('seats', 'NNS')),\n",
       " (('seats', 'NNS'), 'nsubj', ('me', 'PRP')),\n",
       " (('seats', 'NNS'), 'det', ('the', 'DT')),\n",
       " (('seats', 'NNS'), 'nmod', ('flight', 'NN')),\n",
       " (('flight', 'NN'), 'case', ('on', 'IN')),\n",
       " (('flight', 'NN'), 'det', ('the', 'DT')),\n",
       " (('flight', 'NN'), 'nmod', ('Denver', 'NNP')),\n",
       " (('Denver', 'NNP'), 'case', ('to', 'TO'))]"
      ]
     },
     "execution_count": 9,
     "metadata": {},
     "output_type": "execute_result"
    }
   ],
   "source": [
    "from nltk.parse.stanford import StanfordDependencyParser\n",
    "path_to_jar = '/usr/local/Cellar/stanford-parser/3.8.0/libexec/stanford-parser.jar'\n",
    "path_to_models_jar = '/usr/local/Cellar/stanford-parser/3.8.0/libexec/stanford-parser-3.8.0-models.jar'\n",
    "dependency_parser = StanfordDependencyParser(path_to_jar=path_to_jar, path_to_models_jar=path_to_models_jar)\n",
    "\n",
    "result = dependency_parser.raw_parse('List me the seats on the flight to Denver')\n",
    "dep = result.__next__()\n",
    "list(dep.triples())"
   ]
  },
  {
   "cell_type": "code",
   "execution_count": 13,
   "metadata": {},
   "outputs": [
    {
     "name": "stdout",
     "output_type": "stream",
     "text": [
      "<class 'nltk.parse.dependencygraph.DependencyGraph'>\n"
     ]
    }
   ],
   "source": [
    "result = dependency_parser.raw_parse('List me the seats on the flight to Denver')\n",
    "# print(type(result))\n",
    "for r in result:\n",
    "    print(type(r))"
   ]
  },
  {
   "cell_type": "code",
   "execution_count": 20,
   "metadata": {},
   "outputs": [
    {
     "name": "stdout",
     "output_type": "stream",
     "text": [
      "List ROOT List VERB [me, seats]\n",
      "me dative List VERB []\n",
      "the det seats NOUN []\n",
      "seats dobj List VERB [the, on]\n",
      "on prep seats NOUN [flight]\n",
      "the det flight NOUN []\n",
      "flight pobj on ADP [the, to]\n",
      "to prep flight NOUN [Denver]\n",
      "Denver pobj to ADP []\n"
     ]
    }
   ],
   "source": [
    "import spacy\n",
    "nlp = spacy.load('en')\n",
    "doc = nlp(u'List me the seats on the flight to Denver')\n",
    "for token in doc:\n",
    "    print(token.text, token.dep_, token.head.text, token.head.pos_,\n",
    "          [child for child in token.children])"
   ]
  },
  {
   "cell_type": "code",
   "execution_count": null,
   "metadata": {},
   "outputs": [],
   "source": []
  }
 ],
 "metadata": {
  "kernelspec": {
   "display_name": "Python 3",
   "language": "python",
   "name": "python3"
  },
  "language_info": {
   "codemirror_mode": {
    "name": "ipython",
    "version": 3
   },
   "file_extension": ".py",
   "mimetype": "text/x-python",
   "name": "python",
   "nbconvert_exporter": "python",
   "pygments_lexer": "ipython3",
   "version": "3.6.2"
  }
 },
 "nbformat": 4,
 "nbformat_minor": 2
}
