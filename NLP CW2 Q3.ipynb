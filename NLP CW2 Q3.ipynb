{
 "cells": [
  {
   "cell_type": "code",
   "execution_count": 2,
   "metadata": {},
   "outputs": [],
   "source": [
    "import nltk\n",
    "from nltk.corpus import treebank\n",
    "# nltk.download('treebank')\n",
    "sentence22 = treebank.parsed_sents('wsj_0003.mrg')[21]\n",
    "sentence7 = treebank.parsed_sents('wsj_0003.mrg')[6]\n",
    "sentence13 = treebank.parsed_sents('wsj_0004.mrg')[12]"
   ]
  },
  {
   "cell_type": "code",
   "execution_count": 6,
   "metadata": {},
   "outputs": [
    {
     "name": "stdout",
     "output_type": "stream",
     "text": [
      "(S\n",
      "  (PP-TMP (IN In) (NP (NNP July)))\n",
      "  (, ,)\n",
      "  (NP-SBJ (DT the) (NNP Environmental) (NNP Protection) (NNP Agency))\n",
      "  (VP\n",
      "    (VBD imposed)\n",
      "    (NP (DT a) (JJ gradual) (NN ban))\n",
      "    (PP-CLR\n",
      "      (IN on)\n",
      "      (NP\n",
      "        (NP (ADJP (RB virtually) (DT all)) (NNS uses))\n",
      "        (PP (IN of) (NP (NN asbestos))))))\n",
      "  (. .))\n"
     ]
    }
   ],
   "source": [
    "print(sentence22)"
   ]
  },
  {
   "cell_type": "code",
   "execution_count": 6,
   "metadata": {},
   "outputs": [
    {
     "data": {
      "text/plain": [
       "[S -> PP-TMP , NP-SBJ VP .,\n",
       " PP-TMP -> IN NP,\n",
       " IN -> 'In',\n",
       " NP -> NNP,\n",
       " NNP -> 'July',\n",
       " , -> ',',\n",
       " NP-SBJ -> DT NNP NNP NNP,\n",
       " DT -> 'the',\n",
       " NNP -> 'Environmental',\n",
       " NNP -> 'Protection',\n",
       " NNP -> 'Agency',\n",
       " VP -> VBD NP PP-CLR,\n",
       " VBD -> 'imposed',\n",
       " NP -> DT JJ NN,\n",
       " DT -> 'a',\n",
       " JJ -> 'gradual',\n",
       " NN -> 'ban',\n",
       " PP-CLR -> IN NP,\n",
       " IN -> 'on',\n",
       " NP -> NP PP,\n",
       " NP -> ADJP NNS,\n",
       " ADJP -> RB DT,\n",
       " RB -> 'virtually',\n",
       " DT -> 'all',\n",
       " NNS -> 'uses',\n",
       " PP -> IN NP,\n",
       " IN -> 'of',\n",
       " NP -> NN,\n",
       " NN -> 'asbestos',\n",
       " . -> '.']"
      ]
     },
     "execution_count": 6,
     "metadata": {},
     "output_type": "execute_result"
    }
   ],
   "source": [
    "sentence22.productions()"
   ]
  },
  {
   "cell_type": "code",
   "execution_count": 7,
   "metadata": {},
   "outputs": [
    {
     "name": "stdout",
     "output_type": "stream",
     "text": [
      "(S\n",
      "  (NP-SBJ (EX There))\n",
      "  (VP\n",
      "    (VBZ is)\n",
      "    (NP-PRD (DT no) (NN asbestos))\n",
      "    (PP-LOC (IN in) (NP (PRP$ our) (NNS products)))\n",
      "    (ADVP-TMP (RB now)))\n",
      "  (. .)\n",
      "  ('' ''))\n"
     ]
    }
   ],
   "source": [
    "print(sentence7)"
   ]
  },
  {
   "cell_type": "code",
   "execution_count": 11,
   "metadata": {},
   "outputs": [
    {
     "data": {
      "text/plain": [
       "[S -> NP-SBJ VP . '',\n",
       " NP-SBJ -> EX,\n",
       " EX -> 'There',\n",
       " VP -> VBZ NP-PRD PP-LOC ADVP-TMP,\n",
       " VBZ -> 'is',\n",
       " NP-PRD -> DT NN,\n",
       " DT -> 'no',\n",
       " NN -> 'asbestos',\n",
       " PP-LOC -> IN NP,\n",
       " IN -> 'in',\n",
       " NP -> PRP$ NNS,\n",
       " PRP$ -> 'our',\n",
       " NNS -> 'products',\n",
       " ADVP-TMP -> RB,\n",
       " RB -> 'now',\n",
       " . -> '.',\n",
       " '' -> \"''\"]"
      ]
     },
     "execution_count": 11,
     "metadata": {},
     "output_type": "execute_result"
    }
   ],
   "source": [
    "sentence7.productions()"
   ]
  },
  {
   "cell_type": "code",
   "execution_count": 8,
   "metadata": {},
   "outputs": [
    {
     "name": "stdout",
     "output_type": "stream",
     "text": [
      "(S\n",
      "  (NP-SBJ (DT The) (JJ top) (NN money) (NNS funds))\n",
      "  (VP\n",
      "    (VBP are)\n",
      "    (ADVP-TMP (RB currently))\n",
      "    (VP (VBG yielding) (NP (QP (RB well) (IN over) (CD 9)) (NN %))))\n",
      "  (. .))\n"
     ]
    }
   ],
   "source": [
    "print(sentence13)"
   ]
  },
  {
   "cell_type": "code",
   "execution_count": 10,
   "metadata": {},
   "outputs": [
    {
     "data": {
      "text/plain": [
       "[S -> NP-SBJ VP .,\n",
       " NP-SBJ -> DT JJ NN NNS,\n",
       " DT -> 'The',\n",
       " JJ -> 'top',\n",
       " NN -> 'money',\n",
       " NNS -> 'funds',\n",
       " VP -> VBP ADVP-TMP VP,\n",
       " VBP -> 'are',\n",
       " ADVP-TMP -> RB,\n",
       " RB -> 'currently',\n",
       " VP -> VBG NP,\n",
       " VBG -> 'yielding',\n",
       " NP -> QP NN,\n",
       " QP -> RB IN CD,\n",
       " RB -> 'well',\n",
       " IN -> 'over',\n",
       " CD -> '9',\n",
       " NN -> '%',\n",
       " . -> '.']"
      ]
     },
     "execution_count": 10,
     "metadata": {},
     "output_type": "execute_result"
    }
   ],
   "source": [
    "sentence13.productions()"
   ]
  },
  {
   "cell_type": "code",
   "execution_count": null,
   "metadata": {},
   "outputs": [],
   "source": []
  }
 ],
 "metadata": {
  "kernelspec": {
   "display_name": "Python 3",
   "language": "python",
   "name": "python3"
  },
  "language_info": {
   "codemirror_mode": {
    "name": "ipython",
    "version": 3
   },
   "file_extension": ".py",
   "mimetype": "text/x-python",
   "name": "python",
   "nbconvert_exporter": "python",
   "pygments_lexer": "ipython3",
   "version": "3.6.2"
  }
 },
 "nbformat": 4,
 "nbformat_minor": 2
}
